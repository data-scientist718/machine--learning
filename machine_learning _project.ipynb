{
 "cells": [
  {
   "cell_type": "markdown",
   "metadata": {},
   "source": [
    "# Title : Predicting User Churn in Waze\n",
    "## Author : Abd Ur Rehman\n",
    "## Date   : 18/07/2023"
   ]
  },
  {
   "cell_type": "markdown",
   "metadata": {},
   "source": [
    "### Project Purpose\n",
    "The purpose of this project is combining comprehensive Exploratory Data Analysis (EDA) with the construction of a multiple linear regression model. My objective is to carefully examine the NYC Taxi and Limousine Commission's dataset, uncovering insights through EDA, and then building a predictive model.My aim to provide our client, the New York City TLC, with actionable information to optimize fare predictions, improve service quality, and make data-driven decisions for the benefit of New Yorkers."
   ]
  },
  {
   "cell_type": "markdown",
   "metadata": {},
   "source": []
  }
 ],
 "metadata": {
  "kernelspec": {
   "display_name": "ml",
   "language": "python",
   "name": "python3"
  },
  "language_info": {
   "codemirror_mode": {
    "name": "ipython",
    "version": 3
   },
   "file_extension": ".py",
   "mimetype": "text/x-python",
   "name": "python",
   "nbconvert_exporter": "python",
   "pygments_lexer": "ipython3",
   "version": "3.11.6"
  }
 },
 "nbformat": 4,
 "nbformat_minor": 2
}
